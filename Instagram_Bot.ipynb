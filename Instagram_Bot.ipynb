{
 "cells": [
  {
   "cell_type": "markdown",
   "metadata": {},
   "source": [
    "# INSTAGRAM BOT: AUTO FOLLOW, LIKE, COMMENT"
   ]
  },
  {
   "cell_type": "markdown",
   "metadata": {},
   "source": [
    "For people who ever run a business (or as we know it, online shop) on instagram, it's a common knowledge that in order to get more followers, we should start by following many people first, sometimes also like and comment them, especially when we have just started trying to grow our instagram account. However, it such a troublesome job to do to repeatedly open random people's account, follow, like, and comment. Open another one, follow, like, and comment. And so on until we feel like we have got enough people's attention. But wait, when you check, it's only 20 people? and the conversion rate of people following back, or even response, we all know is veeeeeeeeeeeeery low. Yes, I did experience it in the past. It really is not rewarding to waste time doing such mundane job, isn't it? So I tried making my own instagram bot in hope someone could benefited from it, and maybe I could also revisit my neglected online shop (oops!)\n",
    "\n",
    "I would also acknowledge that I was highly inspired by this article to build the instagram bot : https://towardsdatascience.com/increase-your-instagram-followers-with-a-simple-python-bot-fde048dce20d\n",
    "\n",
    "The Author explains more about the code, so you could also check the article if you are interested to learn about it! :)\n",
    "\n",
    "Ah, and my suggestion is that you should try typing these codes all by yourself to really understand what each line is about! (which also suggested by the above article, I did it, no regret!)"
   ]
  },
  {
   "cell_type": "code",
   "execution_count": null,
   "metadata": {},
   "outputs": [],
   "source": [
    "from selenium import webdriver\n",
    "from selenium.webdriver.common.keys import Keys\n",
    "from time import sleep, strftime\n",
    "from random import randint\n",
    "import pandas as pd"
   ]
  },
  {
   "cell_type": "code",
   "execution_count": null,
   "metadata": {},
   "outputs": [],
   "source": [
    "#for automating the chrome\n",
    "chromedriver_path = r\"C:\\Users\\chiri\\Downloads\\chromedriver.exe\"\n",
    "webdriver=webdriver.Chrome(executable_path=chromedriver_path)\n",
    "sleep(2)\n",
    "\n",
    "#opening the website\n",
    "webdriver.get(\"https://www.instagram.com/\")\n",
    "sleep(3)"
   ]
  },
  {
   "cell_type": "code",
   "execution_count": null,
   "metadata": {},
   "outputs": [],
   "source": [
    "#input username and password here\n",
    "username=webdriver.find_element_by_name(\"username\")\n",
    "username.send_keys(input(\"username: \"))\n",
    "password=webdriver.find_element_by_name(\"password\")\n",
    "password.send_keys(input(\"password: \"))"
   ]
  },
  {
   "cell_type": "code",
   "execution_count": null,
   "metadata": {},
   "outputs": [],
   "source": [
    "#logging in\n",
    "button_login = webdriver.find_element_by_css_selector('#loginForm > div > div:nth-child(3) > button')\n",
    "button_login.click()\n",
    "sleep(3)"
   ]
  },
  {
   "cell_type": "code",
   "execution_count": null,
   "metadata": {},
   "outputs": [],
   "source": [
    "#this block of codes is actually depend on your account. maybe we can make some kind of if else clause?\n",
    "for i in range(1):\n",
    "    try:\n",
    "        notnow=webdriver.find_element_by_css_selector(\"#react-root > section > main > div > div > div > div > button\")\n",
    "        notnow.click()\n",
    "        \n",
    "        for j in range(1):\n",
    "            try:\n",
    "                notnow2=webdriver.find_element_by_css_selector(\"body > div.RnEpo.Yx5HN > div > div > div > div.mt3GC > button.aOOlW.HoLwm\")\n",
    "                notnow2.click()\n",
    "            except:\n",
    "                continue\n",
    "    except:\n",
    "        continue"
   ]
  },
  {
   "cell_type": "code",
   "execution_count": null,
   "metadata": {},
   "outputs": [],
   "source": [
    "#since my online shop is a clothing line and based in Indonesia, I try reaching out to the people who might be interested in fashion and also based in Indonesia\n",
    "hashtag=\"ootdindonesia\"\n",
    "\n",
    "webdriver.get(f\"https://www.instagram.com/explore/tags/{hashtag}/\")\n",
    "sleep(5)\n",
    "\n",
    "#choosing the first picture shown based on the hashtag\n",
    "thumbnail=webdriver.find_element_by_xpath('//*[@id=\"react-root\"]/section/main/article/div[1]/div/div/div[1]/div[1]/a/div/div[2]')\n",
    "thumbnail.click()\n",
    "sleep(2)\n",
    "\n",
    "button_follow=webdriver.find_element_by_xpath(r\"/html/body/div[4]/div[2]/div/article/header/div[2]/div[1]/div[2]/button\")\n",
    "\n",
    "#I put for 10 pics at 1 run just to be safe since I think our account could be banned if we do it for too many pics in such a short period of time or repeatedly, be careful!\n",
    "for i in range(10):\n",
    "    button_follow=webdriver.find_element_by_xpath(\"/html/body/div[4]/div[2]/div/article/header/div[2]/div[1]/div[2]/button\")\n",
    "    if button_follow.text==\"Following\":\n",
    "        webdriver.find_element_by_link_text(\"Next\").click()\n",
    "        sleep(5)        \n",
    "    else:    \n",
    "        button_follow.click()\n",
    "        sleep(2)\n",
    "\n",
    "        button_like=webdriver.find_element_by_css_selector(\"body > div._2dDPU.CkGkG > div.zZYga > div > article > div.eo2As > section.ltpMr.Slqrh > span.fr66n > button > div > span > svg\")\n",
    "        button_like.click()\n",
    "        sleep(2)\n",
    "\n",
    "        button_comment=webdriver.find_element_by_css_selector(\"body > div._2dDPU.CkGkG > div.zZYga > div > article > div.eo2As > section.ltpMr.Slqrh > span._15y0l > button > div > svg\")\n",
    "        button_comment.click()\n",
    "        sleep(2)\n",
    "\n",
    "        comment_box=webdriver.find_element_by_xpath(\"/html/body/div[4]/div[2]/div/article/div[3]/section[3]/div/form/textarea\")\n",
    "        comment_box.send_keys(\"beautiful!\")\n",
    "        sleep(2)\n",
    "        comment_box.send_keys(Keys.ENTER)"
   ]
  }
 ],
 "metadata": {
  "kernelspec": {
   "display_name": "Python 3",
   "language": "python",
   "name": "python3"
  },
  "language_info": {
   "codemirror_mode": {
    "name": "ipython",
    "version": 3
   },
   "file_extension": ".py",
   "mimetype": "text/x-python",
   "name": "python",
   "nbconvert_exporter": "python",
   "pygments_lexer": "ipython3",
   "version": "3.7.6"
  },
  "varInspector": {
   "cols": {
    "lenName": 16,
    "lenType": 16,
    "lenVar": 40
   },
   "kernels_config": {
    "python": {
     "delete_cmd_postfix": "",
     "delete_cmd_prefix": "del ",
     "library": "var_list.py",
     "varRefreshCmd": "print(var_dic_list())"
    },
    "r": {
     "delete_cmd_postfix": ") ",
     "delete_cmd_prefix": "rm(",
     "library": "var_list.r",
     "varRefreshCmd": "cat(var_dic_list()) "
    }
   },
   "types_to_exclude": [
    "module",
    "function",
    "builtin_function_or_method",
    "instance",
    "_Feature"
   ],
   "window_display": false
  }
 },
 "nbformat": 4,
 "nbformat_minor": 4
}
